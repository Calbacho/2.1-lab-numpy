{
 "cells": [
  {
   "cell_type": "markdown",
   "id": "fa12f611",
   "metadata": {},
   "source": [
    "#1. Import the NUMPY package under the name np."
   ]
  },
  {
   "cell_type": "code",
   "execution_count": 1,
   "id": "3c929f99",
   "metadata": {},
   "outputs": [],
   "source": [
    "import numpy as np"
   ]
  },
  {
   "cell_type": "markdown",
   "id": "8ce3236f",
   "metadata": {},
   "source": [
    "#2. Print the NUMPY version and the configuration."
   ]
  },
  {
   "cell_type": "code",
   "execution_count": 2,
   "id": "ed14a42a",
   "metadata": {},
   "outputs": [
    {
     "name": "stdout",
     "output_type": "stream",
     "text": [
      "NumPy Version :  1.21.5\n",
      "blas_mkl_info:\n",
      "    libraries = ['mkl_rt']\n",
      "    library_dirs = ['C:/Users/calba/anaconda3\\\\Library\\\\lib']\n",
      "    define_macros = [('SCIPY_MKL_H', None), ('HAVE_CBLAS', None)]\n",
      "    include_dirs = ['C:/Users/calba/anaconda3\\\\Library\\\\include']\n",
      "blas_opt_info:\n",
      "    libraries = ['mkl_rt']\n",
      "    library_dirs = ['C:/Users/calba/anaconda3\\\\Library\\\\lib']\n",
      "    define_macros = [('SCIPY_MKL_H', None), ('HAVE_CBLAS', None)]\n",
      "    include_dirs = ['C:/Users/calba/anaconda3\\\\Library\\\\include']\n",
      "lapack_mkl_info:\n",
      "    libraries = ['mkl_rt']\n",
      "    library_dirs = ['C:/Users/calba/anaconda3\\\\Library\\\\lib']\n",
      "    define_macros = [('SCIPY_MKL_H', None), ('HAVE_CBLAS', None)]\n",
      "    include_dirs = ['C:/Users/calba/anaconda3\\\\Library\\\\include']\n",
      "lapack_opt_info:\n",
      "    libraries = ['mkl_rt']\n",
      "    library_dirs = ['C:/Users/calba/anaconda3\\\\Library\\\\lib']\n",
      "    define_macros = [('SCIPY_MKL_H', None), ('HAVE_CBLAS', None)]\n",
      "    include_dirs = ['C:/Users/calba/anaconda3\\\\Library\\\\include']\n",
      "Supported SIMD extensions in this NumPy install:\n",
      "    baseline = SSE,SSE2,SSE3\n",
      "    found = SSSE3,SSE41,POPCNT,SSE42,AVX,F16C,FMA3,AVX2,AVX512F,AVX512CD,AVX512_SKX,AVX512_CLX,AVX512_CNL\n",
      "    not found = \n",
      "None\n"
     ]
    }
   ],
   "source": [
    "print(\"NumPy Version : \",np.__version__)\n",
    "print(np.show_config())"
   ]
  },
  {
   "cell_type": "markdown",
   "id": "8f6278aa",
   "metadata": {},
   "source": [
    "#3. Generate a 2x3x5 3-dimensional array with random values. Assign the array to variable \"a\"\n",
    "# Challenge: there are at least three easy ways that use numpy to generate random arrays. How many ways can you find?\n"
   ]
  },
  {
   "cell_type": "code",
   "execution_count": 7,
   "id": "5f5b148d",
   "metadata": {},
   "outputs": [
    {
     "name": "stdout",
     "output_type": "stream",
     "text": [
      "[[[0.22951977 0.23477252 0.15266387 0.18588347 0.95445272]\n",
      "  [0.22804619 0.934226   0.81237338 0.30551177 0.93927764]\n",
      "  [0.8820861  0.10398908 0.84371359 0.13290719 0.4049158 ]]\n",
      "\n",
      " [[0.54623804 0.12832709 0.26351459 0.36685388 0.71160305]\n",
      "  [0.73571774 0.03408977 0.90267737 0.44111579 0.78210703]\n",
      "  [0.63928713 0.77913802 0.37269889 0.87127253 0.40099387]]]\n"
     ]
    }
   ],
   "source": [
    "a = np.random.random((2,3,5))"
   ]
  },
  {
   "cell_type": "markdown",
   "id": "bb6b6f7d",
   "metadata": {},
   "source": [
    "#4. Print a."
   ]
  },
  {
   "cell_type": "code",
   "execution_count": 8,
   "id": "042cd5ad",
   "metadata": {},
   "outputs": [
    {
     "name": "stdout",
     "output_type": "stream",
     "text": [
      "[[[0.22951977 0.23477252 0.15266387 0.18588347 0.95445272]\n",
      "  [0.22804619 0.934226   0.81237338 0.30551177 0.93927764]\n",
      "  [0.8820861  0.10398908 0.84371359 0.13290719 0.4049158 ]]\n",
      "\n",
      " [[0.54623804 0.12832709 0.26351459 0.36685388 0.71160305]\n",
      "  [0.73571774 0.03408977 0.90267737 0.44111579 0.78210703]\n",
      "  [0.63928713 0.77913802 0.37269889 0.87127253 0.40099387]]]\n"
     ]
    }
   ],
   "source": [
    "print(a)"
   ]
  },
  {
   "cell_type": "markdown",
   "id": "044a9811",
   "metadata": {},
   "source": [
    "#5. Create a 5x2x3 3-dimensional array with all values equaling 1.\n",
    "#Assign the array to variable \"b\""
   ]
  },
  {
   "cell_type": "code",
   "execution_count": 10,
   "id": "13456445",
   "metadata": {},
   "outputs": [],
   "source": [
    "b = np.ones((5,2,3))"
   ]
  },
  {
   "cell_type": "markdown",
   "id": "4f5bc621",
   "metadata": {},
   "source": [
    "#6. Print b."
   ]
  },
  {
   "cell_type": "code",
   "execution_count": 11,
   "id": "3ec972fe",
   "metadata": {},
   "outputs": [
    {
     "name": "stdout",
     "output_type": "stream",
     "text": [
      "[[[1. 1. 1.]\n",
      "  [1. 1. 1.]]\n",
      "\n",
      " [[1. 1. 1.]\n",
      "  [1. 1. 1.]]\n",
      "\n",
      " [[1. 1. 1.]\n",
      "  [1. 1. 1.]]\n",
      "\n",
      " [[1. 1. 1.]\n",
      "  [1. 1. 1.]]\n",
      "\n",
      " [[1. 1. 1.]\n",
      "  [1. 1. 1.]]]\n"
     ]
    }
   ],
   "source": [
    "print(b)"
   ]
  },
  {
   "cell_type": "markdown",
   "id": "12f86ef8",
   "metadata": {},
   "source": [
    "#7. Do a and b have the same size? How do you prove that in Python code?"
   ]
  },
  {
   "cell_type": "code",
   "execution_count": 27,
   "id": "b588f235",
   "metadata": {},
   "outputs": [
    {
     "data": {
      "text/plain": [
       "True"
      ]
     },
     "execution_count": 27,
     "metadata": {},
     "output_type": "execute_result"
    }
   ],
   "source": [
    "#Yes\n",
    "a.size == b.size"
   ]
  },
  {
   "cell_type": "markdown",
   "id": "4e210cfd",
   "metadata": {},
   "source": [
    "#8. Are you able to add a and b? Why or why not?"
   ]
  },
  {
   "cell_type": "code",
   "execution_count": 14,
   "id": "c2797f8b",
   "metadata": {},
   "outputs": [
    {
     "ename": "ValueError",
     "evalue": "operands could not be broadcast together with shapes (2,3,5) (5,2,3) ",
     "output_type": "error",
     "traceback": [
      "\u001b[1;31m---------------------------------------------------------------------------\u001b[0m",
      "\u001b[1;31mValueError\u001b[0m                                Traceback (most recent call last)",
      "\u001b[1;32m~\\AppData\\Local\\Temp\\ipykernel_22500\\3553919051.py\u001b[0m in \u001b[0;36m<module>\u001b[1;34m\u001b[0m\n\u001b[1;32m----> 1\u001b[1;33m \u001b[0ma\u001b[0m\u001b[1;33m+\u001b[0m\u001b[0mb\u001b[0m\u001b[1;33m\u001b[0m\u001b[1;33m\u001b[0m\u001b[0m\n\u001b[0m",
      "\u001b[1;31mValueError\u001b[0m: operands could not be broadcast together with shapes (2,3,5) (5,2,3) "
     ]
    }
   ],
   "source": [
    "a+b\n",
    "#No, as they have different sizes."
   ]
  },
  {
   "cell_type": "markdown",
   "id": "102cf658",
   "metadata": {},
   "source": [
    "#9. Transpose b so that it has the same structure of a (i.e. become a 2x3x5 array). Assign the transposed array to varialbe \"c\"."
   ]
  },
  {
   "cell_type": "code",
   "execution_count": 22,
   "id": "09709aa8",
   "metadata": {},
   "outputs": [
    {
     "name": "stdout",
     "output_type": "stream",
     "text": [
      "(2, 3, 5)\n"
     ]
    }
   ],
   "source": [
    "c =  b.reshape(2,3,5) \n",
    "print(c.shape)"
   ]
  },
  {
   "cell_type": "markdown",
   "id": "dd513dd1",
   "metadata": {},
   "source": [
    "#10. Try to add a and c. Now it should work. Assign the sum to varialbe \"d\". But why does it work now?"
   ]
  },
  {
   "cell_type": "code",
   "execution_count": 39,
   "id": "51afdda9",
   "metadata": {},
   "outputs": [],
   "source": [
    "d = a + c"
   ]
  },
  {
   "cell_type": "markdown",
   "id": "74556dc3",
   "metadata": {},
   "source": [
    "#11. Print a and d. Notice the difference and relation of the two array in terms of the values? Explain."
   ]
  },
  {
   "cell_type": "code",
   "execution_count": 102,
   "id": "0195625c",
   "metadata": {},
   "outputs": [
    {
     "name": "stdout",
     "output_type": "stream",
     "text": [
      "[[[0.22951977 0.23477252 0.15266387 0.18588347 0.95445272]\n",
      "  [0.22804619 0.934226   0.81237338 0.30551177 0.93927764]\n",
      "  [0.8820861  0.10398908 0.84371359 0.13290719 0.4049158 ]]\n",
      "\n",
      " [[0.54623804 0.12832709 0.26351459 0.36685388 0.71160305]\n",
      "  [0.73571774 0.03408977 0.90267737 0.44111579 0.78210703]\n",
      "  [0.63928713 0.77913802 0.37269889 0.87127253 0.40099387]]]\n",
      "[[[1.22951977 1.23477252 1.15266387 1.18588347 1.95445272]\n",
      "  [1.22804619 1.934226   1.81237338 1.30551177 1.93927764]\n",
      "  [1.8820861  1.10398908 1.84371359 1.13290719 1.4049158 ]]\n",
      "\n",
      " [[1.54623804 1.12832709 1.26351459 1.36685388 1.71160305]\n",
      "  [1.73571774 1.03408977 1.90267737 1.44111579 1.78210703]\n",
      "  [1.63928713 1.77913802 1.37269889 1.87127253 1.40099387]]]\n"
     ]
    }
   ],
   "source": [
    "print(a)\n",
    "print(d)\n",
    "\n",
    "#They both contain random values but a has values between 0 and 1 and d has values between 1 and 2 (due to the previous sum with b which was an array of ones)"
   ]
  },
  {
   "cell_type": "markdown",
   "id": "6f971411",
   "metadata": {},
   "source": [
    "#12. Multiply a and c. Assign the result to e."
   ]
  },
  {
   "cell_type": "code",
   "execution_count": 103,
   "id": "0704c151",
   "metadata": {},
   "outputs": [],
   "source": [
    "e = a*c"
   ]
  },
  {
   "cell_type": "markdown",
   "id": "bbde9e9a",
   "metadata": {},
   "source": [
    "#13. Does e equal to a? Why or why not?"
   ]
  },
  {
   "cell_type": "code",
   "execution_count": 42,
   "id": "3bd75ef4",
   "metadata": {},
   "outputs": [
    {
     "data": {
      "text/plain": [
       "array([[[ True,  True,  True,  True,  True],\n",
       "        [ True,  True,  True,  True,  True],\n",
       "        [ True,  True,  True,  True,  True]],\n",
       "\n",
       "       [[ True,  True,  True,  True,  True],\n",
       "        [ True,  True,  True,  True,  True],\n",
       "        [ True,  True,  True,  True,  True]]])"
      ]
     },
     "execution_count": 42,
     "metadata": {},
     "output_type": "execute_result"
    }
   ],
   "source": [
    "e == a\n",
    "#True, as we multiplied a to an array of ones of equal dimension "
   ]
  },
  {
   "cell_type": "markdown",
   "id": "9c9f3c69",
   "metadata": {},
   "source": [
    "#14. Identify the max, min, and mean values in d. Assign those values to variables \"d_max\", \"d_min\", and \"d_mean\""
   ]
  },
  {
   "cell_type": "code",
   "execution_count": 69,
   "id": "35ea9ed4",
   "metadata": {},
   "outputs": [],
   "source": [
    "d_max = d.max()\n",
    "d_min = d.min()\n",
    "d_mean = d.mean()"
   ]
  },
  {
   "cell_type": "markdown",
   "id": "5a4eef60",
   "metadata": {},
   "source": [
    "\n",
    "#15. Now we want to label the values in d. First create an empty array \"f\" with the same shape (i.e. 2x3x5) as d using `np.empty`."
   ]
  },
  {
   "cell_type": "code",
   "execution_count": 64,
   "id": "2a28ea52",
   "metadata": {},
   "outputs": [],
   "source": [
    "f = np.empty((2,3,5))"
   ]
  },
  {
   "cell_type": "code",
   "execution_count": 65,
   "id": "14adbc45",
   "metadata": {},
   "outputs": [
    {
     "name": "stdout",
     "output_type": "stream",
     "text": [
      "[[[1.22951977 1.23477252 1.15266387 1.18588347 1.95445272]\n",
      "  [1.22804619 1.934226   1.81237338 1.30551177 1.93927764]\n",
      "  [1.8820861  1.10398908 1.84371359 1.13290719 1.4049158 ]]\n",
      "\n",
      " [[1.54623804 1.12832709 1.26351459 1.36685388 1.71160305]\n",
      "  [1.73571774 1.03408977 1.90267737 1.44111579 1.78210703]\n",
      "  [1.63928713 1.77913802 1.37269889 1.87127253 1.40099387]]]\n"
     ]
    }
   ],
   "source": [
    "print(f)"
   ]
  },
  {
   "cell_type": "markdown",
   "id": "b8428921",
   "metadata": {},
   "source": [
    "\n",
    "#16. Populate the values in f. For each value in d, if it's larger than d_min but smaller than d_mean, assign 25 to the corresponding value in f.\n",
    "\n",
    "If a value in d is larger than d_mean but smaller than d_max, assign 75 to the corresponding value in f.\n",
    "\n",
    "If a value equals to d_mean, assign 50 to the corresponding value in f.\n",
    "\n",
    "Assign 0 to the corresponding value(s) in f for d_min in d.\n",
    "\n",
    "Assign 100 to the corresponding value(s) in f for d_max in d.\n",
    "\n",
    "In the end, f should have only the following values: 0, 25, 50, 75, and 100.\n",
    "\n",
    "Note: you don't have to use Numpy in this question.\n"
   ]
  },
  {
   "cell_type": "code",
   "execution_count": 111,
   "id": "ed4a6544",
   "metadata": {},
   "outputs": [
    {
     "name": "stdout",
     "output_type": "stream",
     "text": [
      "[[[ 25  25  25  25 100]\n",
      "  [ 25  75  75  25  75]\n",
      "  [ 75  25  75  25  25]]\n",
      "\n",
      " [[ 75  25  25  25  75]\n",
      "  [ 75   0  75  25  75]\n",
      "  [ 75  75  25  75  25]]]\n"
     ]
    }
   ],
   "source": [
    "f = np.where(d==d_max, 100,np.where(d>d_mean,75,np.where(d==d_mean,50,np.where(d>d_min,25,0))))\n",
    "print(f)"
   ]
  },
  {
   "cell_type": "code",
   "execution_count": 141,
   "id": "0c7db5a6",
   "metadata": {},
   "outputs": [
    {
     "name": "stdout",
     "output_type": "stream",
     "text": [
      "[[[ 25  25  25  25 100]\n",
      "  [ 25  75  75  25  75]\n",
      "  [ 75  25  75  25  25]]\n",
      "\n",
      " [[ 75  25  25  25  75]\n",
      "  [ 75   0  75  25  75]\n",
      "  [ 75  75  25  75  25]]]\n"
     ]
    }
   ],
   "source": [
    "f2 = np.empty((2,3,5))\n",
    "f2 = (d>d_min)*(d<d_mean)*25 + (d==d_mean)*50 + (d>d_mean)*(d<d_max)*75 +(d==d_max)*100\n",
    "print(f2)"
   ]
  },
  {
   "cell_type": "code",
   "execution_count": 134,
   "id": "b9d9bdae",
   "metadata": {},
   "outputs": [
    {
     "name": "stdout",
     "output_type": "stream",
     "text": [
      "[[[1 1 1 1 0]\n",
      "  [1 0 0 1 0]\n",
      "  [0 1 0 1 1]]\n",
      "\n",
      " [[0 1 1 1 0]\n",
      "  [0 1 0 1 0]\n",
      "  [0 0 1 0 1]]]\n"
     ]
    }
   ],
   "source": []
  },
  {
   "cell_type": "markdown",
   "id": "0312468f",
   "metadata": {},
   "source": [
    "#17. Print d and f. Do you have your expected f?\n",
    "For instance, if your d is:\n",
    "array([[[1.85836099, 1.67064465, 1.62576044, 1.40243961, 1.88454931],\n",
    "        [1.75354326, 1.69403643, 1.36729252, 1.61415071, 1.12104981],\n",
    "        [1.72201435, 1.1862918 , 1.87078449, 1.7726778 , 1.88180042]],\n",
    "\n",
    "       [[1.44747908, 1.31673383, 1.02000951, 1.52218947, 1.97066381],\n",
    "        [1.79129243, 1.74983003, 1.96028037, 1.85166831, 1.65450881],\n",
    "        [1.18068344, 1.9587381 , 1.00656599, 1.93402165, 1.73514584]]])\n",
    "\n",
    "Your f should be:\n",
    "array([[[ 75.,  75.,  75.,  25.,  75.],\n",
    "        [ 75.,  75.,  25.,  25.,  25.],\n",
    "        [ 75.,  25.,  75.,  75.,  75.]],\n",
    "\n",
    "       [[ 25.,  25.,  25.,  25., 100.],\n",
    "        [ 75.,  75.,  75.,  75.,  75.],\n",
    "        [ 25.,  75.,   0.,  75.,  75.]]])\n"
   ]
  },
  {
   "cell_type": "code",
   "execution_count": 143,
   "id": "a8097a00",
   "metadata": {},
   "outputs": [
    {
     "name": "stdout",
     "output_type": "stream",
     "text": [
      "[[[1.22951977 1.23477252 1.15266387 1.18588347 1.95445272]\n",
      "  [1.22804619 1.934226   1.81237338 1.30551177 1.93927764]\n",
      "  [1.8820861  1.10398908 1.84371359 1.13290719 1.4049158 ]]\n",
      "\n",
      " [[1.54623804 1.12832709 1.26351459 1.36685388 1.71160305]\n",
      "  [1.73571774 1.03408977 1.90267737 1.44111579 1.78210703]\n",
      "  [1.63928713 1.77913802 1.37269889 1.87127253 1.40099387]]]\n",
      "[[[ 25  25  25  25 100]\n",
      "  [ 25  75  75  25  75]\n",
      "  [ 75  25  75  25  25]]\n",
      "\n",
      " [[ 75  25  25  25  75]\n",
      "  [ 75   0  75  25  75]\n",
      "  [ 75  75  25  75  25]]]\n",
      "[[[ 25  25  25  25 100]\n",
      "  [ 25  75  75  25  75]\n",
      "  [ 75  25  75  25  25]]\n",
      "\n",
      " [[ 75  25  25  25  75]\n",
      "  [ 75   0  75  25  75]\n",
      "  [ 75  75  25  75  25]]]\n"
     ]
    }
   ],
   "source": [
    "print(d)\n",
    "print(f)\n",
    "print(f2)"
   ]
  },
  {
   "cell_type": "markdown",
   "id": "5b1a659d",
   "metadata": {},
   "source": [
    "#18. Bonus question: instead of using numbers (i.e. 0, 25, 50, 75, and 100), how to use string values \n",
    "(\"A\", \"B\", \"C\", \"D\", and \"E\") to label the array elements? You are expecting the result to be:\n",
    "array([[[ 'D',  'D',  'D',  'B',  'D'],\n",
    "        [ 'D',  'D',  'B',  'B',  'B'],\n",
    "        [ 'D',  'B',  'D',  'D',  'D']],\n",
    "\n",
    "       [[ 'B',  'B',  'B',  'B',  'E'],\n",
    "        [ 'D',  'D',  'D',  'D',  'D'],\n",
    "        [ 'B',  'D',   'A',  'D', 'D']]])\n",
    "Again, you don't need Numpy in this question."
   ]
  },
  {
   "cell_type": "code",
   "execution_count": 145,
   "id": "33b1ccf2",
   "metadata": {},
   "outputs": [
    {
     "name": "stdout",
     "output_type": "stream",
     "text": [
      "[[['B' 'B' 'B' 'B' 'E']\n",
      "  ['B' 'D' 'D' 'B' 'D']\n",
      "  ['D' 'B' 'D' 'B' 'B']]\n",
      "\n",
      " [['D' 'B' 'B' 'B' 'D']\n",
      "  ['D' 'A' 'D' 'B' 'D']\n",
      "  ['D' 'D' 'B' 'D' 'B']]]\n"
     ]
    }
   ],
   "source": [
    "g = np.where(d==d_max, 'E',np.where(d>d_mean,'D',np.where(d==d_mean,'C',np.where(d>d_min,'B','A'))))\n",
    "print(g)"
   ]
  },
  {
   "cell_type": "code",
   "execution_count": null,
   "id": "732978bd",
   "metadata": {},
   "outputs": [],
   "source": []
  }
 ],
 "metadata": {
  "kernelspec": {
   "display_name": "Python 3 (ipykernel)",
   "language": "python",
   "name": "python3"
  },
  "language_info": {
   "codemirror_mode": {
    "name": "ipython",
    "version": 3
   },
   "file_extension": ".py",
   "mimetype": "text/x-python",
   "name": "python",
   "nbconvert_exporter": "python",
   "pygments_lexer": "ipython3",
   "version": "3.9.13"
  }
 },
 "nbformat": 4,
 "nbformat_minor": 5
}
